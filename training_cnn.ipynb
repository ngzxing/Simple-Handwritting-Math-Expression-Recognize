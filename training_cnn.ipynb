{
 "cells": [
  {
   "cell_type": "code",
   "execution_count": null,
   "id": "4827f1e3",
   "metadata": {},
   "outputs": [],
   "source": [
    "import numpy as np\n",
    "import pandas as pd\n",
    "import cv2\n",
    "import os\n",
    "import matplotlib.pyplot as plt\n",
    "from sklearn.preprocessing import PolynomialFeatures\n",
    "from sklearn.decomposition import PCA\n",
    "from sklearn.linear_model import LogisticRegression as LR\n",
    "from sklearn.ensemble import AdaBoostClassifier as ABC\n",
    "from sklearn.model_selection import train_test_split,GridSearchCV,cross_val_score\n",
    "from math import ceil,floor\n",
    "from sklearn.tree import DecisionTreeClassifier as DT\n",
    "from sklearn.ensemble import RandomForestClassifier as RFC"
   ]
  },
  {
   "cell_type": "code",
   "execution_count": null,
   "id": "2294f07e",
   "metadata": {},
   "outputs": [],
   "source": [
    "filepath=\"data\\\\extracted_images\\\\\"\n",
    "datapath=\"data\\\\data.txt\"\n",
    "datafile=open(datapath,\"w\")\n",
    "label=[\"10\",\"11\",\"12\",\"13\"]\n",
    "filename=[\"+\",\"-\",\"X\",\"y\"]\n",
    "\n",
    "for i,l in zip(filename,label):\n",
    "    imgPath=filepath+str(i)+\"\\\\\"\n",
    "    imgDir=os.listdir(imgPath)\n",
    "    for j in range(6000):\n",
    "        imgName=imgDir[j]\n",
    "        img=cv2.imread(imgPath+imgName)\n",
    "        gray=cv2.cvtColor(img,cv2.COLOR_BGR2GRAY)\n",
    "        _,binary=cv2.threshold(gray,127,1,0)\n",
    "        binary=binary.astype(str).flatten()\n",
    "        \n",
    "        datafile.write(l+\" \")\n",
    "        for xi in binary:\n",
    "            datafile.write(xi)\n",
    "        datafile.write(\"\\n\")\n",
    "        \n",
    "datafile.close()"
   ]
  },
  {
   "cell_type": "code",
   "execution_count": null,
   "id": "af2a9ad6",
   "metadata": {},
   "outputs": [],
   "source": [
    "def resize_pm(img):\n",
    "    \n",
    "    img=img.astype(\"uint8\")\n",
    "    img=cv2.resize(img,(26,26))\n",
    "    _,binary=cv2.threshold(img,254,255,0)\n",
    "        \n",
    "    plt.imshow(binary)\n",
    "    \n",
    "    binary=padding(binary)\n",
    "    \n",
    "    return binary"
   ]
  },
  {
   "cell_type": "code",
   "execution_count": null,
   "id": "79434095",
   "metadata": {},
   "outputs": [],
   "source": [
    "def padding(img):\n",
    "    \n",
    "    return np.hstack((np.ones((28,1))*255,np.vstack((np.ones((1,26))*255,img,np.ones((1,26))*255)),np.ones((28,1))*255))"
   ]
  },
  {
   "cell_type": "code",
   "execution_count": null,
   "id": "7ef7e1a6",
   "metadata": {},
   "outputs": [],
   "source": [
    "datapath=\"data\\\\data.txt\"\n",
    "with open(datapath,\"r\") as file:\n",
    "    data=np.array([text.split() for text in file.readlines()])  \n",
    "    X_pm=np.array([list(x) for x in data[:,1]]).astype(int)\n",
    "    Y_pm=data[:,0].astype(int)"
   ]
  },
  {
   "cell_type": "code",
   "execution_count": null,
   "id": "4a2f56d8",
   "metadata": {},
   "outputs": [],
   "source": [
    "# if i achive 23999 and not stop, please stop it by key directly\n",
    "X_pmr=np.ones((24000,28,28))\n",
    "for i in range(0,24000):\n",
    "    print(\"i:{}\".format(i))\n",
    "    ima=X_pm[i].reshape((45,45))*255\n",
    "    \n",
    "    X_pmr[i]=resize_pm(ima)"
   ]
  },
  {
   "cell_type": "code",
   "execution_count": null,
   "id": "bc48faa9",
   "metadata": {},
   "outputs": [],
   "source": [
    "X_pmr=X_pmr[:24000]"
   ]
  },
  {
   "cell_type": "code",
   "execution_count": null,
   "id": "de45f740",
   "metadata": {},
   "outputs": [
    {
     "data": {
      "text/plain": [
       "<matplotlib.image.AxesImage at 0x1b9a3283d30>"
      ]
     },
     "execution_count": 8,
     "metadata": {},
     "output_type": "execute_result"
    },
    {
     "data": {
      "image/png": "[encoded data removed]",
      "text/plain": [
       "<Figure size 432x288 with 1 Axes>"
      ]
     },
     "metadata": {
      "needs_background": "light"
     },
     "output_type": "display_data"
    }
   ],
   "source": [
    "plt.imshow(X_pmr[21000].reshape((28,28)))"
   ]
  },
  {
   "cell_type": "code",
   "execution_count": null,
   "id": "955eb3b5",
   "metadata": {},
   "outputs": [],
   "source": [
    "#this code is refer from https://www.jianshu.com/p/84f72791806f\n",
    "\"\"\"\n",
    "@author: monitor1379 \n",
    "@contact: yy4f5da2@hotmail.com\n",
    "@site: www.monitor1379.com\n",
    "\"\"\"\n",
    "\n",
    "import struct\n",
    "\n",
    "train_images_idx3_ubyte_file = 'data\\\\train-images.idx3-ubyte'\n",
    "train_labels_idx1_ubyte_file = 'data\\\\train-labels.idx1-ubyte'\n",
    "\n",
    "\n",
    "def decode_idx3_ubyte(idx3_ubyte_file):\n",
    "\n",
    "    bin_data = open(idx3_ubyte_file, 'rb').read()\n",
    "  \n",
    "    offset = 0\n",
    "    fmt_header = '>iiii'\n",
    "    _, num_images, num_rows, num_cols = struct.unpack_from(fmt_header, bin_data, offset)\n",
    "    print('image amount: %d, size: %d*%d' % (num_images, num_rows, num_cols))\n",
    "\n",
    "    image_size = num_rows * num_cols\n",
    "    offset += struct.calcsize(fmt_header)\n",
    "    fmt_image = '>' + str(image_size) + 'B'\n",
    "    images = np.empty((num_images, num_rows, num_cols))\n",
    "    for i in range(num_images):\n",
    "        images[i] = np.array(struct.unpack_from(fmt_image, bin_data, offset)).reshape((num_rows, num_cols))\n",
    "        offset += struct.calcsize(fmt_image)\n",
    "    return images\n",
    "    \n",
    "def decode_idx1_ubyte(idx1_ubyte_file):\n",
    "   \n",
    "    bin_data = open(idx1_ubyte_file, 'rb').read()\n",
    "\n",
    "    offset = 0\n",
    "    fmt_header = '>ii'\n",
    "    _, num_images = struct.unpack_from(fmt_header, bin_data, offset)\n",
    "    print('image amount: %d' % (num_images))\n",
    "\n",
    "    offset += struct.calcsize(fmt_header)\n",
    "    fmt_image = '>B'\n",
    "    labels = np.empty(num_images)\n",
    "    for i in range(num_images):\n",
    "        labels[i] = struct.unpack_from(fmt_image, bin_data, offset)[0]\n",
    "        offset += struct.calcsize(fmt_image)\n",
    "    return labels\n",
    "\n",
    "\n",
    "train_images = decode_idx3_ubyte(train_images_idx3_ubyte_file)\n",
    "train_labels = decode_idx1_ubyte(train_labels_idx1_ubyte_file)"
   ]
  },
  {
   "cell_type": "code",
   "execution_count": null,
   "id": "e8deb434",
   "metadata": {},
   "outputs": [],
   "source": [
    "def transform(imgs):\n",
    "    print(imgs.shape)\n",
    "    for i in range(60000):\n",
    "        print(i)\n",
    "        \n",
    "        _,binary=cv2.threshold(imgs[i],127,1,1)\n",
    "        imgs[i]=binary\n",
    "        \n",
    "    return imgs"
   ]
  },
  {
   "cell_type": "code",
   "execution_count": null,
   "id": "784b45b4",
   "metadata": {},
   "outputs": [],
   "source": [
    "XN=transform(train_images)\n",
    "YN=train_labels"
   ]
  },
  {
   "cell_type": "code",
   "execution_count": null,
   "id": "8055043c",
   "metadata": {},
   "outputs": [
    {
     "data": {
      "text/plain": [
       "<matplotlib.image.AxesImage at 0x137ff9c4b20>"
      ]
     },
     "execution_count": 16,
     "metadata": {},
     "output_type": "execute_result"
    },
    {
     "data": {
      "image/png": "[encoded data removed]",
      "text/plain": [
       "<Figure size 432x288 with 1 Axes>"
      ]
     },
     "metadata": {
      "needs_background": "light"
     },
     "output_type": "display_data"
    }
   ],
   "source": [
    "plt.imshow(XN[5001])"
   ]
  },
  {
   "cell_type": "code",
   "execution_count": null,
   "id": "20c18d44",
   "metadata": {},
   "outputs": [],
   "source": [
    "X=np.vstack((XN,X_pmr))\n",
    "Y=np.hstack((YN,Y_pm))"
   ]
  },
  {
   "cell_type": "code",
   "execution_count": null,
   "id": "23ede06e",
   "metadata": {},
   "outputs": [
    {
     "data": {
      "text/plain": [
       "(array([ 0.,  1.,  2.,  3.,  4.,  5.,  6.,  7.,  8.,  9., 10., 11., 12.,\n",
       "        13.]),\n",
       " array([5923, 6742, 5958, 6131, 5842, 5421, 5918, 6265, 5851, 5949, 6000,\n",
       "        6000, 6000, 6000], dtype=int64))"
      ]
     },
     "execution_count": 14,
     "metadata": {},
     "output_type": "execute_result"
    }
   ],
   "source": [
    "np.unique(Y,return_counts=True)"
   ]
  },
  {
   "cell_type": "code",
   "execution_count": null,
   "id": "cb73506b",
   "metadata": {},
   "outputs": [],
   "source": [
    "X_train,X_test,y_train,y_test=train_test_split(X,Y,stratify=Y,random_state=200)"
   ]
  },
  {
   "cell_type": "code",
   "execution_count": null,
   "id": "4e88b53f",
   "metadata": {
    "scrolled": true
   },
   "outputs": [],
   "source": [
    "from keras.models import Sequential\n",
    "from keras.layers import Conv2D,MaxPooling2D,Dense,Flatten,Activation,Dropout\n",
    "from tensorflow.keras.utils import to_categorical,normalize\n",
    "from tensorflow.keras.activations import relu\n",
    "from tensorflow.keras.optimizers import SGD\n",
    "\n",
    "X_train_n=normalize(X_train,axis=1)\n",
    "X_test_n=normalize(X_test,axis=1)\n",
    "\n",
    "model=Sequential([\n",
    "    Conv2D(32,5,input_shape=(28,28,1),use_bias=False),\n",
    "    Conv2D(32,5,use_bias=False),\n",
    "    MaxPooling2D(pool_size=2),\n",
    "    Dropout(0.2),\n",
    "    Conv2D(64,3,use_bias=False),\n",
    "    Conv2D(64,3,use_bias=False),\n",
    "    MaxPooling2D(pool_size=2),\n",
    "    Dropout(0.2),\n",
    "    Flatten(),\n",
    "    Dense(30,activation=\"relu\"),\n",
    "    Dense(30,activation=\"relu\"),\n",
    "    Dense(14,activation=\"softmax\"),\n",
    "])\n",
    "\n",
    "model.compile(optimizer=\"adam\",loss=\"categorical_crossentropy\",metrics=[\"accuracy\"])\n",
    "model.fit(X_train_n,to_categorical(y_train),epochs=30)"
   ]
  },
  {
   "cell_type": "code",
   "execution_count": null,
   "id": "1dcbf66b",
   "metadata": {},
   "outputs": [
    {
     "name": "stdout",
     "output_type": "stream",
     "text": [
      "657/657 [==============================] - 16s 22ms/step - loss: 9.8244 - accuracy: 0.9813\n"
     ]
    },
    {
     "data": {
      "text/plain": [
       "[9.824403762817383, 0.9812856912612915]"
      ]
     },
     "execution_count": 62,
     "metadata": {},
     "output_type": "execute_result"
    }
   ],
   "source": [
    "model.evaluate(X_test,to_categorical(y_test))"
   ]
  },
  {
   "cell_type": "code",
   "execution_count": null,
   "id": "fd501676",
   "metadata": {},
   "outputs": [],
   "source": [
    "from image import getImage\n",
    "Img=getImage()\n",
    "Img.readImage(\"C:\\\\Users\\\\user\\\\Downloads\\\\xy.jpg\")\n",
    "Img.detectGrp(area_thre=0,percent_thre=1)\n",
    "Img.grpImage()\n",
    "Img.rough(thickness=10)\n",
    "print(Img.returnImg()[0].shape)\n",
    "Img.resize(size=20)\n",
    "Img.padding(size=20)\n",
    "imgList=Img.returnImg()\n",
    "trydata=[]\n",
    "for img in imgList:\n",
    "    rel,binary=cv2.threshold(img,1,1,0)\n",
    "    trydata.append(binary)\n",
    "trydata=np.array(trydata)"
   ]
  },
  {
   "cell_type": "code",
   "execution_count": null,
   "id": "780138e4",
   "metadata": {},
   "outputs": [
    {
     "data": {
      "text/plain": [
       "<matplotlib.image.AxesImage at 0x1b9b0518d30>"
      ]
     },
     "execution_count": 56,
     "metadata": {},
     "output_type": "execute_result"
    },
    {
     "data": {
      "image/png": "[encoded data removed]",
      "text/plain": [
       "<Figure size 432x288 with 1 Axes>"
      ]
     },
     "metadata": {
      "needs_background": "light"
     },
     "output_type": "display_data"
    }
   ],
   "source": [
    "plt.imshow(trydata[1])"
   ]
  },
  {
   "cell_type": "code",
   "execution_count": null,
   "id": "98d6650d",
   "metadata": {},
   "outputs": [],
   "source": [
    "tt=normalize(trydata)"
   ]
  },
  {
   "cell_type": "code",
   "execution_count": null,
   "id": "0ea75580",
   "metadata": {},
   "outputs": [
    {
     "data": {
      "text/plain": [
       "array([12,  1, 13], dtype=int64)"
      ]
     },
     "execution_count": 57,
     "metadata": {},
     "output_type": "execute_result"
    }
   ],
   "source": [
    "predict=model.predict(trydata)\n",
    "np.argmax(predict,axis=1)"
   ]
  },
  {
   "cell_type": "code",
   "execution_count": null,
   "id": "095849fe",
   "metadata": {},
   "outputs": [
    {
     "data": {
      "text/plain": [
       "array([[ 0,  9,  7,  4, 11,  6,  3,  1,  8,  5, 10,  2, 13, 12],\n",
       "       [ 0,  4,  6,  9, 11, 12, 13,  8,  2,  5, 10,  3,  7,  1],\n",
       "       [11,  1,  3, 12,  6,  0,  2,  9,  4, 10,  8,  7,  5, 13]],\n",
       "      dtype=int64)"
      ]
     },
     "execution_count": 59,
     "metadata": {},
     "output_type": "execute_result"
    }
   ],
   "source": [
    "np.argsort(predict,axis=1)"
   ]
  },
  {
   "cell_type": "code",
   "execution_count": null,
   "id": "dd2a07f9",
   "metadata": {},
   "outputs": [
    {
     "name": "stdout",
     "output_type": "stream",
     "text": [
      "INFO:tensorflow:Assets written to: CNNxy2\\assets\n"
     ]
    }
   ],
   "source": [
    "model.save(\"CNNxy2\")"
   ]
  }
 ],
 "metadata": {
  "kernelspec": {
   "display_name": "Python 3",
   "language": "python",
   "name": "python3"
  },
  "language_info": {
   "codemirror_mode": {
    "name": "ipython",
    "version": 3
   },
   "file_extension": ".py",
   "mimetype": "text/x-python",
   "name": "python",
   "nbconvert_exporter": "python",
   "pygments_lexer": "ipython3",
   "version": "3.9.6"
  }
 },
 "nbformat": 4,
 "nbformat_minor": 5
}
